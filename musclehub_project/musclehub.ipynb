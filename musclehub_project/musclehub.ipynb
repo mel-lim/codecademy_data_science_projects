{
 "cells": [
  {
   "cell_type": "markdown",
   "metadata": {},
   "source": [
    "# Capstone Project 1: MuscleHub AB Test"
   ]
  },
  {
   "cell_type": "markdown",
   "metadata": {},
   "source": [
    "## Step 1: Get started with SQL"
   ]
  },
  {
   "cell_type": "markdown",
   "metadata": {},
   "source": [
    "Like most businesses, Janet keeps her data in a SQL database.  Normally, you'd download the data from her database to a csv file, and then load it into a Jupyter Notebook using Pandas.\n",
    "\n",
    "For this project, you'll have to access SQL in a slightly different way.  You'll be using a special Codecademy library that lets you type SQL queries directly into this Jupyter notebook.  You'll have pass each SQL query as an argument to a function called `sql_query`.  Each query will return a Pandas DataFrame.  Here's an example:"
   ]
  },
  {
   "cell_type": "code",
   "execution_count": 21,
   "metadata": {},
   "outputs": [],
   "source": [
    "# This import only needs to happen once, at the beginning of the notebook\n",
    "from codecademySQL import sql_query"
   ]
  },
  {
   "cell_type": "code",
   "execution_count": 22,
   "metadata": {},
   "outputs": [
    {
     "data": {
      "text/html": [
       "<div>\n",
       "<style scoped>\n",
       "    .dataframe tbody tr th:only-of-type {\n",
       "        vertical-align: middle;\n",
       "    }\n",
       "\n",
       "    .dataframe tbody tr th {\n",
       "        vertical-align: top;\n",
       "    }\n",
       "\n",
       "    .dataframe thead th {\n",
       "        text-align: right;\n",
       "    }\n",
       "</style>\n",
       "<table border=\"1\" class=\"dataframe\">\n",
       "  <thead>\n",
       "    <tr style=\"text-align: right;\">\n",
       "      <th></th>\n",
       "      <th>index</th>\n",
       "      <th>first_name</th>\n",
       "      <th>last_name</th>\n",
       "      <th>email</th>\n",
       "      <th>gender</th>\n",
       "      <th>visit_date</th>\n",
       "    </tr>\n",
       "  </thead>\n",
       "  <tbody>\n",
       "    <tr>\n",
       "      <th>0</th>\n",
       "      <td>0</td>\n",
       "      <td>Karen</td>\n",
       "      <td>Manning</td>\n",
       "      <td>Karen.Manning@gmail.com</td>\n",
       "      <td>female</td>\n",
       "      <td>5-1-17</td>\n",
       "    </tr>\n",
       "    <tr>\n",
       "      <th>1</th>\n",
       "      <td>1</td>\n",
       "      <td>Annette</td>\n",
       "      <td>Boone</td>\n",
       "      <td>AB9982@gmail.com</td>\n",
       "      <td>female</td>\n",
       "      <td>5-1-17</td>\n",
       "    </tr>\n",
       "    <tr>\n",
       "      <th>2</th>\n",
       "      <td>2</td>\n",
       "      <td>Salvador</td>\n",
       "      <td>Merritt</td>\n",
       "      <td>SalvadorMerritt12@outlook.com</td>\n",
       "      <td>male</td>\n",
       "      <td>5-1-17</td>\n",
       "    </tr>\n",
       "    <tr>\n",
       "      <th>3</th>\n",
       "      <td>3</td>\n",
       "      <td>Martha</td>\n",
       "      <td>Maxwell</td>\n",
       "      <td>Martha.Maxwell@gmail.com</td>\n",
       "      <td>female</td>\n",
       "      <td>5-1-17</td>\n",
       "    </tr>\n",
       "    <tr>\n",
       "      <th>4</th>\n",
       "      <td>4</td>\n",
       "      <td>Andre</td>\n",
       "      <td>Mayer</td>\n",
       "      <td>AndreMayer90@gmail.com</td>\n",
       "      <td>male</td>\n",
       "      <td>5-1-17</td>\n",
       "    </tr>\n",
       "    <tr>\n",
       "      <th>...</th>\n",
       "      <td>...</td>\n",
       "      <td>...</td>\n",
       "      <td>...</td>\n",
       "      <td>...</td>\n",
       "      <td>...</td>\n",
       "      <td>...</td>\n",
       "    </tr>\n",
       "    <tr>\n",
       "      <th>95</th>\n",
       "      <td>95</td>\n",
       "      <td>John</td>\n",
       "      <td>Navarro</td>\n",
       "      <td>JN5941@gmail.com</td>\n",
       "      <td>male</td>\n",
       "      <td>5-13-17</td>\n",
       "    </tr>\n",
       "    <tr>\n",
       "      <th>96</th>\n",
       "      <td>96</td>\n",
       "      <td>Fernando</td>\n",
       "      <td>Calhoun</td>\n",
       "      <td>FCalhoun1984@hotmail.com</td>\n",
       "      <td>male</td>\n",
       "      <td>5-13-17</td>\n",
       "    </tr>\n",
       "    <tr>\n",
       "      <th>97</th>\n",
       "      <td>97</td>\n",
       "      <td>Christian</td>\n",
       "      <td>Potter</td>\n",
       "      <td>CPotter1994@outlook.com</td>\n",
       "      <td>male</td>\n",
       "      <td>5-14-17</td>\n",
       "    </tr>\n",
       "    <tr>\n",
       "      <th>98</th>\n",
       "      <td>98</td>\n",
       "      <td>Clara</td>\n",
       "      <td>Delgado</td>\n",
       "      <td>ClaraDelgado77@outlook.com</td>\n",
       "      <td>female</td>\n",
       "      <td>5-14-17</td>\n",
       "    </tr>\n",
       "    <tr>\n",
       "      <th>99</th>\n",
       "      <td>99</td>\n",
       "      <td>Bill</td>\n",
       "      <td>Vinson</td>\n",
       "      <td>Bill.Vinson@gmail.com</td>\n",
       "      <td>male</td>\n",
       "      <td>5-14-17</td>\n",
       "    </tr>\n",
       "  </tbody>\n",
       "</table>\n",
       "<p>100 rows × 6 columns</p>\n",
       "</div>"
      ],
      "text/plain": [
       "    index first_name last_name                          email  gender  \\\n",
       "0       0      Karen   Manning        Karen.Manning@gmail.com  female   \n",
       "1       1    Annette     Boone               AB9982@gmail.com  female   \n",
       "2       2   Salvador   Merritt  SalvadorMerritt12@outlook.com    male   \n",
       "3       3     Martha   Maxwell       Martha.Maxwell@gmail.com  female   \n",
       "4       4      Andre     Mayer         AndreMayer90@gmail.com    male   \n",
       "..    ...        ...       ...                            ...     ...   \n",
       "95     95       John   Navarro               JN5941@gmail.com    male   \n",
       "96     96   Fernando   Calhoun       FCalhoun1984@hotmail.com    male   \n",
       "97     97  Christian    Potter        CPotter1994@outlook.com    male   \n",
       "98     98      Clara   Delgado     ClaraDelgado77@outlook.com  female   \n",
       "99     99       Bill    Vinson          Bill.Vinson@gmail.com    male   \n",
       "\n",
       "   visit_date  \n",
       "0      5-1-17  \n",
       "1      5-1-17  \n",
       "2      5-1-17  \n",
       "3      5-1-17  \n",
       "4      5-1-17  \n",
       "..        ...  \n",
       "95    5-13-17  \n",
       "96    5-13-17  \n",
       "97    5-14-17  \n",
       "98    5-14-17  \n",
       "99    5-14-17  \n",
       "\n",
       "[100 rows x 6 columns]"
      ]
     },
     "execution_count": 22,
     "metadata": {},
     "output_type": "execute_result"
    }
   ],
   "source": [
    "# Here's an example of a query that just displays some data\n",
    "sql_query('''\n",
    "SELECT *\n",
    "FROM visits\n",
    "LIMIT 100\n",
    "''')"
   ]
  },
  {
   "cell_type": "code",
   "execution_count": 23,
   "metadata": {},
   "outputs": [],
   "source": [
    "# Here's an example where we save the data to a DataFrame\n",
    "df = sql_query('''\n",
    "SELECT *\n",
    "FROM applications\n",
    "LIMIT 5\n",
    "''')"
   ]
  },
  {
   "cell_type": "markdown",
   "metadata": {},
   "source": [
    "## Step 2: Get your dataset"
   ]
  },
  {
   "cell_type": "markdown",
   "metadata": {},
   "source": [
    "Let's get started!\n",
    "\n",
    "Janet of MuscleHub has a SQLite database, which contains several tables that will be helpful to you in this investigation:\n",
    "- `visits` contains information about potential gym customers who have visited MuscleHub\n",
    "- `fitness_tests` contains information about potential customers in \"Group A\", who were given a fitness test\n",
    "- `applications` contains information about any potential customers (both \"Group A\" and \"Group B\") who filled out an application.  Not everyone in `visits` will have filled out an application.\n",
    "- `purchases` contains information about customers who purchased a membership to MuscleHub.\n",
    "\n",
    "Use the space below to examine each table."
   ]
  },
  {
   "cell_type": "code",
   "execution_count": 24,
   "metadata": {},
   "outputs": [
    {
     "name": "stdout",
     "output_type": "stream",
     "text": [
      "<class 'pandas.core.frame.DataFrame'>\n",
      "RangeIndex: 6000 entries, 0 to 5999\n",
      "Data columns (total 6 columns):\n",
      " #   Column      Non-Null Count  Dtype \n",
      "---  ------      --------------  ----- \n",
      " 0   index       6000 non-null   int64 \n",
      " 1   first_name  6000 non-null   object\n",
      " 2   last_name   6000 non-null   object\n",
      " 3   email       6000 non-null   object\n",
      " 4   gender      6000 non-null   object\n",
      " 5   visit_date  6000 non-null   object\n",
      "dtypes: int64(1), object(5)\n",
      "memory usage: 281.4+ KB\n",
      "None\n"
     ]
    }
   ],
   "source": [
    "# Examine visits here\n",
    "visits = sql_query('''\n",
    "SELECT *\n",
    "FROM visits\n",
    "''')\n",
    "print(visits.info())"
   ]
  },
  {
   "cell_type": "code",
   "execution_count": 25,
   "metadata": {},
   "outputs": [
    {
     "name": "stdout",
     "output_type": "stream",
     "text": [
      "   index first_name last_name                   email  gender  \\\n",
      "0      0        Kim    Walter   KimWalter58@gmail.com  female   \n",
      "1      1        Tom   Webster        TW3857@gmail.com    male   \n",
      "2      2     Marcus     Bauer  Marcus.Bauer@gmail.com    male   \n",
      "3      3    Roberta      Best      RB6305@hotmail.com  female   \n",
      "4      4     Carrie   Francis      CF1896@hotmail.com  female   \n",
      "\n",
      "  fitness_test_date  \n",
      "0        2017-07-03  \n",
      "1        2017-07-02  \n",
      "2        2017-07-01  \n",
      "3        2017-07-02  \n",
      "4        2017-07-05  \n",
      "2500\n"
     ]
    }
   ],
   "source": [
    "# Examine fitness_tests here\n",
    "fitness_tests = sql_query('''\n",
    "SELECT *\n",
    "FROM fitness_tests\n",
    "''')\n",
    "print(fitness_tests.head())\n",
    "print(len(fitness_tests))"
   ]
  },
  {
   "cell_type": "code",
   "execution_count": 26,
   "metadata": {},
   "outputs": [
    {
     "name": "stdout",
     "output_type": "stream",
     "text": [
      "   index first_name last_name                    email  gender  \\\n",
      "0      0        Roy    Abbott    RoyAbbott32@gmail.com    male   \n",
      "1      1      Agnes   Acevedo  AgnesAcevedo1@gmail.com  female   \n",
      "2      2    Roberta   Acevedo         RA8063@gmail.com  female   \n",
      "3      3     Darren    Acosta  DAcosta1996@hotmail.com    male   \n",
      "4      4     Vernon    Acosta    VAcosta1975@gmail.com    male   \n",
      "\n",
      "  application_date  \n",
      "0       2017-08-12  \n",
      "1       2017-09-29  \n",
      "2       2017-09-15  \n",
      "3       2017-07-26  \n",
      "4       2017-07-14  \n"
     ]
    }
   ],
   "source": [
    "# Examine applications here\n",
    "applications = sql_query('''\n",
    "SELECT *\n",
    "FROM applications\n",
    "''')\n",
    "print(applications.head())"
   ]
  },
  {
   "cell_type": "code",
   "execution_count": 27,
   "metadata": {},
   "outputs": [
    {
     "name": "stdout",
     "output_type": "stream",
     "text": [
      "   index first_name last_name                    email  gender purchase_date\n",
      "0      0        Roy    Abbott    RoyAbbott32@gmail.com    male    2017-08-18\n",
      "1      1    Roberta   Acevedo         RA8063@gmail.com  female    2017-09-16\n",
      "2      2     Vernon    Acosta    VAcosta1975@gmail.com    male    2017-07-20\n",
      "3      3     Darren    Acosta  DAcosta1996@hotmail.com    male    2017-07-27\n",
      "4      4       Dawn    Adkins    Dawn.Adkins@gmail.com  female    2017-08-24\n"
     ]
    }
   ],
   "source": [
    "# Examine purchases here\n",
    "purchases = sql_query('''\n",
    "SELECT *\n",
    "FROM purchases\n",
    "''')\n",
    "print(purchases.head())"
   ]
  },
  {
   "cell_type": "markdown",
   "metadata": {},
   "source": [
    "We'd like to download a giant DataFrame containing all of this data.  You'll need to write a query that does the following things:\n",
    "\n",
    "1. Not all visits in  `visits` occurred during the A/B test.  You'll only want to pull data where `visit_date` is on or after `7-1-17`.\n",
    "\n",
    "2. You'll want to perform a series of `LEFT JOIN` commands to combine the four tables that we care about.  You'll need to perform the joins on `first_name`, `last_name`, and `email`.  Pull the following columns:\n",
    "\n",
    "\n",
    "- `visits.first_name`\n",
    "- `visits.last_name`\n",
    "- `visits.gender`\n",
    "- `visits.email`\n",
    "- `visits.visit_date`\n",
    "- `fitness_tests.fitness_test_date`\n",
    "- `applications.application_date`\n",
    "- `purchases.purchase_date`\n",
    "\n",
    "Save the result of this query to a variable called `df`.\n",
    "\n",
    "Hint: your result should have 5004 rows.  Does it?"
   ]
  },
  {
   "cell_type": "code",
   "execution_count": 28,
   "metadata": {},
   "outputs": [
    {
     "name": "stdout",
     "output_type": "stream",
     "text": [
      "5000\n",
      "  first_name last_name                   email  gender visit_date  \\\n",
      "0        Kim    Walter   KimWalter58@gmail.com  female     7-1-17   \n",
      "1        Tom   Webster        TW3857@gmail.com    male     7-1-17   \n",
      "2     Edward     Bowen  Edward.Bowen@gmail.com    male     7-1-17   \n",
      "3     Marcus     Bauer  Marcus.Bauer@gmail.com    male     7-1-17   \n",
      "4    Roberta      Best      RB6305@hotmail.com  female     7-1-17   \n",
      "\n",
      "  fitness_test_date application_date purchase_date  \n",
      "0        2017-07-03              NaN           NaN  \n",
      "1        2017-07-02              NaN           NaN  \n",
      "2               NaN       2017-07-04    2017-07-04  \n",
      "3        2017-07-01       2017-07-03    2017-07-05  \n",
      "4        2017-07-02              NaN           NaN  \n",
      "5004\n"
     ]
    }
   ],
   "source": [
    "# Reduce the visits dataframe to the period when the A/B test was performed (7-1-17 or after)\n",
    "visits = visits[visits.visit_date >= '7-1-17']\n",
    "print(len(visits))\n",
    "\n",
    "# Perform a series of left joins until all dfs are joined - and drop the columns we don't need along the way\n",
    "merge_0 = visits.merge(fitness_tests,\\\n",
    "                       left_on=['first_name', 'last_name', 'email'],\\\n",
    "                       right_on=['first_name', 'last_name', 'email'],\\\n",
    "                       how='left'\n",
    "                      ).drop(columns=['index_x', 'gender_y', 'index_y'])\n",
    "merge_1 = merge_0.merge(applications,\\\n",
    "                        left_on=['first_name', 'last_name', 'email'],\\\n",
    "                        right_on=['first_name', 'last_name', 'email'],\\\n",
    "                        how='left'\n",
    "                       ).drop(columns=['gender', 'index'])\n",
    "df = merge_1.merge(purchases,\\\n",
    "                   left_on=['first_name', 'last_name', 'email'],\\\n",
    "                   right_on=['first_name', 'last_name', 'email'],\\\n",
    "                   how='left'\n",
    "                  ).drop(columns=['gender', 'index'])\n",
    "df = df.rename(columns={'gender_x':'gender'})\n",
    "print(df.head())\n",
    "print(len(df))"
   ]
  },
  {
   "cell_type": "markdown",
   "metadata": {},
   "source": [
    "## Step 3: Investigate the A and B groups"
   ]
  },
  {
   "cell_type": "markdown",
   "metadata": {},
   "source": [
    "We have some data to work with! Import the following modules so that we can start doing analysis:\n",
    "- `import pandas as pd`\n",
    "- `from matplotlib import pyplot as plt`"
   ]
  },
  {
   "cell_type": "code",
   "execution_count": 29,
   "metadata": {},
   "outputs": [],
   "source": [
    "import pandas as pd\n",
    "from matplotlib import pyplot as plt"
   ]
  },
  {
   "cell_type": "markdown",
   "metadata": {},
   "source": [
    "We're going to add some columns to `df` to help us with our analysis.\n",
    "\n",
    "Start by adding a column called `ab_test_group`.  It should be `A` if `fitness_test_date` is not `None`, and `B` if `fitness_test_date` is `None`."
   ]
  },
  {
   "cell_type": "code",
   "execution_count": 30,
   "metadata": {},
   "outputs": [
    {
     "name": "stdout",
     "output_type": "stream",
     "text": [
      "  first_name last_name                   email  gender visit_date  \\\n",
      "0        Kim    Walter   KimWalter58@gmail.com  female     7-1-17   \n",
      "1        Tom   Webster        TW3857@gmail.com    male     7-1-17   \n",
      "2     Edward     Bowen  Edward.Bowen@gmail.com    male     7-1-17   \n",
      "3     Marcus     Bauer  Marcus.Bauer@gmail.com    male     7-1-17   \n",
      "4    Roberta      Best      RB6305@hotmail.com  female     7-1-17   \n",
      "\n",
      "  fitness_test_date application_date purchase_date ab_test_group  \n",
      "0        2017-07-03              NaN           NaN             A  \n",
      "1        2017-07-02              NaN           NaN             A  \n",
      "2               NaN       2017-07-04    2017-07-04             B  \n",
      "3        2017-07-01       2017-07-03    2017-07-05             A  \n",
      "4        2017-07-02              NaN           NaN             A  \n"
     ]
    }
   ],
   "source": [
    "ab_test_lambda = lambda x: 'A' if x==x else 'B'\n",
    "df['ab_test_group'] = df['fitness_test_date'].apply(ab_test_lambda)\n",
    "print(df.head())"
   ]
  },
  {
   "cell_type": "markdown",
   "metadata": {},
   "source": [
    "Let's do a quick sanity check that Janet split her visitors such that about half are in A and half are in B.\n",
    "\n",
    "Start by using `groupby` to count how many users are in each `ab_test_group`.  Save the results to `ab_counts`."
   ]
  },
  {
   "cell_type": "code",
   "execution_count": 31,
   "metadata": {},
   "outputs": [
    {
     "name": "stdout",
     "output_type": "stream",
     "text": [
      "ab_test_group\n",
      "A    2504\n",
      "B    2500\n",
      "Name: last_name, dtype: int64\n"
     ]
    }
   ],
   "source": [
    "ab_counts = df.groupby(df.ab_test_group).last_name.count()\n",
    "print(ab_counts)"
   ]
  },
  {
   "cell_type": "markdown",
   "metadata": {},
   "source": [
    "We'll want to include this information in our presentation.  Let's create a pie cart using `plt.pie`.  Make sure to include:\n",
    "- Use `plt.axis('equal')` so that your pie chart looks nice\n",
    "- Add a legend labeling `A` and `B`\n",
    "- Use `autopct` to label the percentage of each group\n",
    "- Save your figure as `ab_test_pie_chart.png`"
   ]
  },
  {
   "cell_type": "code",
   "execution_count": 32,
   "metadata": {},
   "outputs": [
    {
     "data": {
      "image/png": "[encoded data removed]",
      "text/plain": [
       "<Figure size 432x288 with 1 Axes>"
      ]
     },
     "metadata": {},
     "output_type": "display_data"
    }
   ],
   "source": [
    "plt.pie(ab_counts, autopct='%.2f%%')\n",
    "plt.axis('equal')\n",
    "plt.legend(['A', 'B'])\n",
    "plt.savefig('ab_test_pie_chart.png')\n",
    "plt.show()"
   ]
  },
  {
   "cell_type": "markdown",
   "metadata": {},
   "source": [
    "## Step 4: Who picks up an application?"
   ]
  },
  {
   "cell_type": "markdown",
   "metadata": {},
   "source": [
    "Recall that the sign-up process for MuscleHub has several steps:\n",
    "1. Take a fitness test with a personal trainer (only Group A)\n",
    "2. Fill out an application for the gym\n",
    "3. Send in their payment for their first month's membership\n",
    "\n",
    "Let's examine how many people make it to Step 2, filling out an application.\n",
    "\n",
    "Start by creating a new column in `df` called `is_application` which is `Application` if `application_date` is not `None` and `No Application`, otherwise."
   ]
  },
  {
   "cell_type": "code",
   "execution_count": 33,
   "metadata": {},
   "outputs": [
    {
     "name": "stdout",
     "output_type": "stream",
     "text": [
      "  first_name last_name                   email  gender visit_date  \\\n",
      "0        Kim    Walter   KimWalter58@gmail.com  female     7-1-17   \n",
      "1        Tom   Webster        TW3857@gmail.com    male     7-1-17   \n",
      "2     Edward     Bowen  Edward.Bowen@gmail.com    male     7-1-17   \n",
      "3     Marcus     Bauer  Marcus.Bauer@gmail.com    male     7-1-17   \n",
      "4    Roberta      Best      RB6305@hotmail.com  female     7-1-17   \n",
      "\n",
      "  fitness_test_date application_date purchase_date ab_test_group  \\\n",
      "0        2017-07-03              NaN           NaN             A   \n",
      "1        2017-07-02              NaN           NaN             A   \n",
      "2               NaN       2017-07-04    2017-07-04             B   \n",
      "3        2017-07-01       2017-07-03    2017-07-05             A   \n",
      "4        2017-07-02              NaN           NaN             A   \n",
      "\n",
      "   is_application  \n",
      "0  No Application  \n",
      "1  No Application  \n",
      "2     Application  \n",
      "3     Application  \n",
      "4  No Application  \n"
     ]
    }
   ],
   "source": [
    "application_lambda = lambda x: 'Application' if x==x else 'No Application'\n",
    "df['is_application'] = df.application_date.apply(application_lambda)\n",
    "print(df.head())"
   ]
  },
  {
   "cell_type": "markdown",
   "metadata": {},
   "source": [
    "Now, using `groupby`, count how many people from Group A and Group B either do or don't pick up an application.  You'll want to group by `ab_test_group` and `is_application`.  Save this new DataFrame as `app_counts`"
   ]
  },
  {
   "cell_type": "code",
   "execution_count": 34,
   "metadata": {},
   "outputs": [
    {
     "name": "stdout",
     "output_type": "stream",
     "text": [
      "  ab_test_group  is_application  last_name\n",
      "0             A     Application        250\n",
      "1             A  No Application       2254\n",
      "2             B     Application        325\n",
      "3             B  No Application       2175\n"
     ]
    }
   ],
   "source": [
    "app_counts = df.groupby(['ab_test_group', 'is_application']).last_name.count().reset_index()\n",
    "print(app_counts)"
   ]
  },
  {
   "cell_type": "markdown",
   "metadata": {},
   "source": [
    "We're going to want to calculate the percent of people in each group who complete an application.  It's going to be much easier to do this if we pivot `app_counts` such that:\n",
    "- The `index` is `ab_test_group`\n",
    "- The `columns` are `is_application`\n",
    "Perform this pivot and save it to the variable `app_pivot`.  Remember to call `reset_index()` at the end of the pivot!"
   ]
  },
  {
   "cell_type": "code",
   "execution_count": 46,
   "metadata": {},
   "outputs": [
    {
     "name": "stdout",
     "output_type": "stream",
     "text": [
      "is_application  Application  No Application\n",
      "ab_test_group                              \n",
      "A                       250            2254\n",
      "B                       325            2175\n"
     ]
    }
   ],
   "source": [
    "app_counts_pivot = app_counts.pivot(index='ab_test_group', columns='is_application', values='last_name')\n",
    "print(app_counts_pivot)"
   ]
  },
  {
   "cell_type": "markdown",
   "metadata": {},
   "source": [
    "Define a new column called `Total`, which is the sum of `Application` and `No Application`."
   ]
  },
  {
   "cell_type": "code",
   "execution_count": 47,
   "metadata": {},
   "outputs": [
    {
     "name": "stdout",
     "output_type": "stream",
     "text": [
      "is_application  Application  No Application  Total\n",
      "ab_test_group                                     \n",
      "A                       250            2254   2504\n",
      "B                       325            2175   2500\n"
     ]
    }
   ],
   "source": [
    "app_counts_pivot['Total'] = app_counts_pivot['Application'] + app_counts_pivot['No Application']\n",
    "print(app_counts_pivot)"
   ]
  },
  {
   "cell_type": "markdown",
   "metadata": {},
   "source": [
    "Calculate another column called `Percent with Application`, which is equal to `Application` divided by `Total`."
   ]
  },
  {
   "cell_type": "code",
   "execution_count": 48,
   "metadata": {},
   "outputs": [
    {
     "name": "stdout",
     "output_type": "stream",
     "text": [
      "is_application  Application  No Application  Total  Percent with Application\n",
      "ab_test_group                                                               \n",
      "A                       250            2254   2504                   0.09984\n",
      "B                       325            2175   2500                   0.13000\n"
     ]
    }
   ],
   "source": [
    "app_counts_pivot['Percent with Application'] = app_counts_pivot['Application'] / app_counts_pivot['Total']\n",
    "print(app_counts_pivot)"
   ]
  },
  {
   "cell_type": "markdown",
   "metadata": {},
   "source": [
    "It looks like more people from Group B turned in an application.  Why might that be?\n",
    "\n",
    "We need to know if this difference is statistically significant.\n",
    "\n",
    "Choose a hypothesis tests, import it from `scipy` and perform it.  Be sure to note the p-value.\n",
    "Is this result significant?"
   ]
  },
  {
   "cell_type": "code",
   "execution_count": 52,
   "metadata": {},
   "outputs": [
    {
     "name": "stdout",
     "output_type": "stream",
     "text": [
      "is_application  Application  No Application\n",
      "ab_test_group                              \n",
      "A                       250            2254\n",
      "B                       325            2175\n",
      "0.0009647827600722304\n"
     ]
    }
   ],
   "source": [
    "# We have one population from which we have two categorical variables - (1) test group and (2) whether they made an \n",
    "# application. The purpose of our test is to see whether there is a significant relationship/association between \n",
    "# the two variables. Put another way, we ask, does the group to which the users belong impact on whether they make an\n",
    "# application? \n",
    "# For this test, we choose the Chi Squared Test of Independence\n",
    "# Null hypothesis: independent - i.e. no impact / no difference\n",
    "# Alternative hypothesis: not independent - i.e. group B turned in significantly more applications\n",
    "# Assume significance value = 0.05\n",
    "app_counts_pivot_contingency = app_counts_pivot.drop(columns=['Total', 'Percent with Application'])\n",
    "print(app_counts_pivot_contingency)\n",
    "\n",
    "from scipy.stats import chi2_contingency\n",
    "_, p_value, _, _ = chi2_contingency(app_counts_pivot_contingency)\n",
    "print(p_value)\n",
    "\n",
    "# The p-value is 0.00096, which is far smaller than 0.05. We therefore reject the null hypothesis and \n",
    "# accept the alternative hypothesis. We conclude that there is a statistically significant difference between the\n",
    "# rate of application between the A group and the B group in that the B group was more likely to turn in an application."
   ]
  },
  {
   "cell_type": "markdown",
   "metadata": {},
   "source": [
    "## Step 4: Who purchases a membership?"
   ]
  },
  {
   "cell_type": "markdown",
   "metadata": {},
   "source": [
    "Of those who picked up an application, how many purchased a membership?\n",
    "\n",
    "Let's begin by adding a column to `df` called `is_member` which is `Member` if `purchase_date` is not `None`, and `Not Member` otherwise."
   ]
  },
  {
   "cell_type": "code",
   "execution_count": 56,
   "metadata": {},
   "outputs": [
    {
     "name": "stdout",
     "output_type": "stream",
     "text": [
      "  first_name last_name                   email  gender visit_date  \\\n",
      "0        Kim    Walter   KimWalter58@gmail.com  female     7-1-17   \n",
      "1        Tom   Webster        TW3857@gmail.com    male     7-1-17   \n",
      "2     Edward     Bowen  Edward.Bowen@gmail.com    male     7-1-17   \n",
      "3     Marcus     Bauer  Marcus.Bauer@gmail.com    male     7-1-17   \n",
      "4    Roberta      Best      RB6305@hotmail.com  female     7-1-17   \n",
      "\n",
      "  fitness_test_date application_date purchase_date ab_test_group  \\\n",
      "0        2017-07-03              NaN           NaN             A   \n",
      "1        2017-07-02              NaN           NaN             A   \n",
      "2               NaN       2017-07-04    2017-07-04             B   \n",
      "3        2017-07-01       2017-07-03    2017-07-05             A   \n",
      "4        2017-07-02              NaN           NaN             A   \n",
      "\n",
      "   is_application   is_member  \n",
      "0  No Application  Not Member  \n",
      "1  No Application  Not Member  \n",
      "2     Application      Member  \n",
      "3     Application      Member  \n",
      "4  No Application  Not Member  \n"
     ]
    }
   ],
   "source": [
    "member_lambda = lambda x: 'Member' if x==x else 'Not Member'\n",
    "df['is_member'] = df.purchase_date.apply(member_lambda)\n",
    "print(df.head())"
   ]
  },
  {
   "cell_type": "markdown",
   "metadata": {},
   "source": [
    "Now, let's create a DataFrame called `just_apps` the contains only people who picked up an application."
   ]
  },
  {
   "cell_type": "code",
   "execution_count": 57,
   "metadata": {},
   "outputs": [
    {
     "name": "stdout",
     "output_type": "stream",
     "text": [
      "   first_name last_name                    email  gender visit_date  \\\n",
      "2      Edward     Bowen   Edward.Bowen@gmail.com    male     7-1-17   \n",
      "3      Marcus     Bauer   Marcus.Bauer@gmail.com    male     7-1-17   \n",
      "9    Salvador  Cardenas  SCardenas1980@gmail.com    male     7-1-17   \n",
      "11    Valerie     Munoz     VMunoz1998@gmail.com  female     7-1-17   \n",
      "35    Michael     Burks         MB9820@gmail.com    male     7-1-17   \n",
      "\n",
      "   fitness_test_date application_date purchase_date ab_test_group  \\\n",
      "2                NaN       2017-07-04    2017-07-04             B   \n",
      "3         2017-07-01       2017-07-03    2017-07-05             A   \n",
      "9         2017-07-07       2017-07-06           NaN             A   \n",
      "11        2017-07-03       2017-07-05    2017-07-06             A   \n",
      "35               NaN       2017-07-07    2017-07-13             B   \n",
      "\n",
      "   is_application   is_member  \n",
      "2     Application      Member  \n",
      "3     Application      Member  \n",
      "9     Application  Not Member  \n",
      "11    Application      Member  \n",
      "35    Application      Member  \n"
     ]
    }
   ],
   "source": [
    "just_apps = df[df.is_application == 'Application']\n",
    "print(just_apps.head())"
   ]
  },
  {
   "cell_type": "markdown",
   "metadata": {},
   "source": [
    "Great! Now, let's do a `groupby` to find out how many people in `just_apps` are and aren't members from each group.  Follow the same process that we did in Step 4, including pivoting the data.  You should end up with a DataFrame that looks like this:\n",
    "\n",
    "|is_member|ab_test_group|Member|Not Member|Total|Percent Purchase|\n",
    "|-|-|-|-|-|-|\n",
    "|0|A|?|?|?|?|\n",
    "|1|B|?|?|?|?|\n",
    "\n",
    "Save your final DataFrame as `member_pivot`."
   ]
  },
  {
   "cell_type": "code",
   "execution_count": 58,
   "metadata": {},
   "outputs": [
    {
     "name": "stdout",
     "output_type": "stream",
     "text": [
      "is_member      Member  Not Member  Total  Percent Purchase\n",
      "ab_test_group                                             \n",
      "A                 200          50    250          0.800000\n",
      "B                 250          75    325          0.769231\n"
     ]
    }
   ],
   "source": [
    "member = just_apps.groupby(['ab_test_group', 'is_member']).last_name.count().reset_index()\n",
    "member_pivot = member.pivot(index='ab_test_group', columns='is_member', values='last_name')\n",
    "member_pivot['Total'] = member_pivot['Member'] + member_pivot['Not Member']\n",
    "member_pivot['Percent Purchase'] = member_pivot['Member'] / member_pivot['Total']\n",
    "print(member_pivot)"
   ]
  },
  {
   "cell_type": "markdown",
   "metadata": {},
   "source": [
    "It looks like people who took the fitness test were more likely to purchase a membership **if** they picked up an application.  Why might that be?\n",
    "\n",
    "Just like before, we need to know if this difference is statistically significant.  Choose a hypothesis tests, import it from `scipy` and perform it.  Be sure to note the p-value.\n",
    "Is this result significant?"
   ]
  },
  {
   "cell_type": "code",
   "execution_count": 59,
   "metadata": {},
   "outputs": [
    {
     "name": "stdout",
     "output_type": "stream",
     "text": [
      "0.43258646051083327\n"
     ]
    }
   ],
   "source": [
    "member_pivot_contingency = member_pivot.drop(columns=['Total', 'Percent Purchase'])\n",
    "_, p_value2, _, _ = chi2_contingency(member_pivot_contingency)\n",
    "print(p_value2)\n",
    "\n",
    "# With a p-value of 0.433, which is greater that our significance value of 0.05, we fail to reject the null hypothesis. \n",
    "# We do not consider that the people in group A who made an application are statistically more or less likely to \n",
    "# purchase a membership that the people in group B who made an application. "
   ]
  },
  {
   "cell_type": "markdown",
   "metadata": {},
   "source": [
    "Previously, we looked at what percent of people **who picked up applications** purchased memberships.  What we really care about is what percentage of **all visitors** purchased memberships.  Return to `df` and do a `groupby` to find out how many people in `df` are and aren't members from each group.  Follow the same process that we did in Step 4, including pivoting the data.  You should end up with a DataFrame that looks like this:\n",
    "\n",
    "|is_member|ab_test_group|Member|Not Member|Total|Percent Purchase|\n",
    "|-|-|-|-|-|-|\n",
    "|0|A|?|?|?|?|\n",
    "|1|B|?|?|?|?|\n",
    "\n",
    "Save your final DataFrame as `final_member_pivot`."
   ]
  },
  {
   "cell_type": "code",
   "execution_count": 60,
   "metadata": {},
   "outputs": [
    {
     "name": "stdout",
     "output_type": "stream",
     "text": [
      "is_member      Member  Not Member  Total  Percent Purchase\n",
      "ab_test_group                                             \n",
      "A                 200        2304   2504          0.079872\n",
      "B                 250        2250   2500          0.100000\n"
     ]
    }
   ],
   "source": [
    "final_member = df.groupby(['ab_test_group', 'is_member']).last_name.count().reset_index()\n",
    "final_member_pivot = final_member.pivot(index='ab_test_group', columns='is_member', values='last_name')\n",
    "final_member_pivot['Total'] = final_member_pivot['Member'] + final_member_pivot['Not Member']\n",
    "final_member_pivot['Percent Purchase'] = final_member_pivot['Member'] / final_member_pivot['Total']\n",
    "print(final_member_pivot)\n"
   ]
  },
  {
   "cell_type": "markdown",
   "metadata": {},
   "source": [
    "Previously, when we only considered people who had **already picked up an application**, we saw that there was no significant difference in membership between Group A and Group B.\n",
    "\n",
    "Now, when we consider all people who **visit MuscleHub**, we see that there might be a significant different in memberships between Group A and Group B.  Perform a significance test and check."
   ]
  },
  {
   "cell_type": "code",
   "execution_count": 62,
   "metadata": {},
   "outputs": [
    {
     "name": "stdout",
     "output_type": "stream",
     "text": [
      "0.014724114645783203\n"
     ]
    }
   ],
   "source": [
    "final_member_pivot_contingency = final_member_pivot.drop(columns=['Total', 'Percent Purchase'])\n",
    "\n",
    "_, p_value3, _, _ = chi2_contingency(final_member_pivot_contingency)\n",
    "print(p_value3)\n",
    "\n",
    "# With a p-value of 0.015, which is less than our significance value of 0.05, we reject the null hypothesis. \n",
    "# We conclude that there is a significant difference in membership uptake between groups A and B."
   ]
  },
  {
   "cell_type": "markdown",
   "metadata": {},
   "source": [
    "## Step 5: Summarize the acquisition funel with a chart"
   ]
  },
  {
   "cell_type": "markdown",
   "metadata": {},
   "source": [
    "We'd like to make a bar chart for Janet that shows the difference between Group A (people who were given the fitness test) and Group B (people who were not given the fitness test) at each state of the process:\n",
    "- Percent of visitors who apply\n",
    "- Percent of applicants who purchase a membership\n",
    "- Percent of visitors who purchase a membership\n",
    "\n",
    "Create one plot for **each** of the three sets of percentages that you calculated in `app_pivot`, `member_pivot` and `final_member_pivot`.  Each plot should:\n",
    "- Label the two bars as `Fitness Test` and `No Fitness Test`\n",
    "- Make sure that the y-axis ticks are expressed as percents (i.e., `5%`)\n",
    "- Have a title"
   ]
  },
  {
   "cell_type": "code",
   "execution_count": 63,
   "metadata": {},
   "outputs": [
    {
     "data": {
      "image/png": "[encoded data removed]",
      "text/plain": [
       "<Figure size 432x288 with 1 Axes>"
      ]
     },
     "metadata": {
      "needs_background": "light"
     },
     "output_type": "display_data"
    }
   ],
   "source": [
    "from matplotlib import pyplot as plt\n",
    "# Group A = fitness test\n",
    "# Group B = no fitness test\n",
    "\n",
    "x_values = [0, 1]\n",
    "ax = plt.subplot()\n",
    "plt.bar(x_values, app_counts_pivot['Percent with Application']*100.0)\n",
    "ax.set_xticks(x_values)\n",
    "ax.set_xticklabels(['Fitness test (group A)', 'No fitness test (group B)'])\n",
    "ax.set_yticks(range(0, 14))\n",
    "plt.title('Visitors who filled out an application')\n",
    "plt.xlabel('A/B test group')\n",
    "plt.ylabel('Percentage of visitors (%)')\n",
    "plt.savefig('visitors_who_apply.png')\n",
    "\n",
    "plt.show()"
   ]
  },
  {
   "cell_type": "code",
   "execution_count": 64,
   "metadata": {},
   "outputs": [
    {
     "data": {
      "image/png": "[encoded data removed]",
      "text/plain": [
       "<Figure size 432x288 with 1 Axes>"
      ]
     },
     "metadata": {
      "needs_background": "light"
     },
     "output_type": "display_data"
    }
   ],
   "source": [
    "x_values = [0, 1]\n",
    "ax2 = plt.subplot()\n",
    "plt.bar(x_values, member_pivot['Percent Purchase']*100.0)\n",
    "ax2.set_xticks(x_values)\n",
    "ax2.set_xticklabels(['Fitness test (group A)', 'No fitness test (group B)'])\n",
    "ax2.set_yticks(range(0, 81, 10))\n",
    "plt.title('Visitors who filled out an application\\n and went on to purchase a membership')\n",
    "plt.xlabel('A/B test group')\n",
    "plt.ylabel('Percentage of visitors (%)')\n",
    "plt.savefig('visitors_who_apply_and_buy.png')\n",
    "\n",
    "plt.show()"
   ]
  },
  {
   "cell_type": "code",
   "execution_count": 65,
   "metadata": {},
   "outputs": [
    {
     "data": {
      "image/png": "[encoded data removed]",
      "text/plain": [
       "<Figure size 432x288 with 1 Axes>"
      ]
     },
     "metadata": {
      "needs_background": "light"
     },
     "output_type": "display_data"
    }
   ],
   "source": [
    "x_values = [0, 1]\n",
    "ax3 = plt.subplot()\n",
    "plt.bar(x_values, final_member_pivot['Percent Purchase']*100.0)\n",
    "ax3.set_xticks(x_values)\n",
    "ax3.set_xticklabels(['Fitness test (group A)', 'No fitness test (group B)'])\n",
    "ax3.set_yticks(range(0, 11))\n",
    "plt.title('Visitors who went on to purchase a membership')\n",
    "plt.xlabel('A/B test group')\n",
    "plt.ylabel('Percentage of visitors (%)')\n",
    "plt.savefig('visitors_who_buy.png')\n",
    "\n",
    "plt.show()"
   ]
  },
  {
   "cell_type": "code",
   "execution_count": null,
   "metadata": {},
   "outputs": [],
   "source": []
  }
 ],
 "metadata": {
  "kernelspec": {
   "display_name": "Python 3",
   "language": "python",
   "name": "python3"
  },
  "language_info": {
   "codemirror_mode": {
    "name": "ipython",
    "version": 3
   },
   "file_extension": ".py",
   "mimetype": "text/x-python",
   "name": "python",
   "nbconvert_exporter": "python",
   "pygments_lexer": "ipython3",
   "version": "3.7.6"
  }
 },
 "nbformat": 4,
 "nbformat_minor": 2
}
