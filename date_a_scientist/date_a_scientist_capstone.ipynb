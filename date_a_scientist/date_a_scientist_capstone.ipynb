{
 "cells": [
  {
   "cell_type": "markdown",
   "metadata": {},
   "source": [
    "# Date-A-Scientist\n",
    "Codecademy Data Science - Machine Learning Capstone Project"
   ]
  },
  {
   "cell_type": "code",
   "execution_count": 182,
   "metadata": {},
   "outputs": [],
   "source": [
    "import pandas as pd\n",
    "import numpy as np\n",
    "from matplotlib import pyplot as plt"
   ]
  },
  {
   "cell_type": "code",
   "execution_count": 183,
   "metadata": {},
   "outputs": [
    {
     "name": "stdout",
     "output_type": "stream",
     "text": [
      "   age       body_type               diet    drinks      drugs  \\\n",
      "0   22  a little extra  strictly anything  socially      never   \n",
      "1   35         average       mostly other     often  sometimes   \n",
      "2   38            thin           anything  socially        NaN   \n",
      "3   23            thin         vegetarian  socially        NaN   \n",
      "4   29        athletic                NaN  socially      never   \n",
      "5   29         average    mostly anything  socially        NaN   \n",
      "\n",
      "                           education  \\\n",
      "0      working on college/university   \n",
      "1              working on space camp   \n",
      "2     graduated from masters program   \n",
      "3      working on college/university   \n",
      "4  graduated from college/university   \n",
      "5  graduated from college/university   \n",
      "\n",
      "                                              essay0  \\\n",
      "0  about me:<br />\\n<br />\\ni would love to think...   \n",
      "1  i am a chef: this is what that means.<br />\\n1...   \n",
      "2  i'm not ashamed of much, but writing public te...   \n",
      "3          i work in a library and go to school. . .   \n",
      "4  hey how's it going? currently vague on the pro...   \n",
      "5  i'm an australian living in san francisco, but...   \n",
      "\n",
      "                                              essay1  \\\n",
      "0  currently working as an international agent fo...   \n",
      "1  dedicating everyday to being an unbelievable b...   \n",
      "2  i make nerdy software for musicians, artists, ...   \n",
      "3          reading things written by old dead people   \n",
      "4                         work work work work + play   \n",
      "5  building awesome stuff. figuring out what's im...   \n",
      "\n",
      "                                              essay2  \\\n",
      "0  making people laugh.<br />\\nranting about a go...   \n",
      "1  being silly. having ridiculous amonts of fun w...   \n",
      "2  improvising in different contexts. alternating...   \n",
      "3  playing synthesizers and organizing books acco...   \n",
      "4  creating imagery to look at:<br />\\nhttp://bag...   \n",
      "5  imagining random shit. laughing at aforementio...   \n",
      "\n",
      "                                              essay3  ...  \\\n",
      "0  the way i look. i am a six foot half asian, ha...  ...   \n",
      "1                                                NaN  ...   \n",
      "2  my large jaw and large glasses are the physica...  ...   \n",
      "3                  socially awkward but i do my best  ...   \n",
      "4            i smile a lot and my inquisitive nature  ...   \n",
      "5  i have a big smile. i also get asked if i'm we...  ...   \n",
      "\n",
      "                          location  \\\n",
      "0  south san francisco, california   \n",
      "1              oakland, california   \n",
      "2        san francisco, california   \n",
      "3             berkeley, california   \n",
      "4        san francisco, california   \n",
      "5        san francisco, california   \n",
      "\n",
      "                                      offspring orientation  \\\n",
      "0  doesn&rsquo;t have kids, but might want them    straight   \n",
      "1  doesn&rsquo;t have kids, but might want them    straight   \n",
      "2                                           NaN    straight   \n",
      "3                       doesn&rsquo;t want kids    straight   \n",
      "4                                           NaN    straight   \n",
      "5  doesn&rsquo;t have kids, but might want them    straight   \n",
      "\n",
      "                        pets                                  religion sex  \\\n",
      "0  likes dogs and likes cats     agnosticism and very serious about it   m   \n",
      "1  likes dogs and likes cats  agnosticism but not too serious about it   m   \n",
      "2                   has cats                                       NaN   m   \n",
      "3                 likes cats                                       NaN   m   \n",
      "4  likes dogs and likes cats                                       NaN   m   \n",
      "5                 likes cats                                   atheism   m   \n",
      "\n",
      "                                 sign     smokes  \\\n",
      "0                              gemini  sometimes   \n",
      "1                              cancer         no   \n",
      "2  pisces but it doesn&rsquo;t matter         no   \n",
      "3                              pisces         no   \n",
      "4                            aquarius         no   \n",
      "5                              taurus         no   \n",
      "\n",
      "                                              speaks     status  \n",
      "0                                            english     single  \n",
      "1  english (fluently), spanish (poorly), french (...     single  \n",
      "2                               english, french, c++  available  \n",
      "3                           english, german (poorly)     single  \n",
      "4                                            english     single  \n",
      "5                 english (fluently), chinese (okay)     single  \n",
      "\n",
      "[6 rows x 31 columns]\n"
     ]
    }
   ],
   "source": [
    "df = pd.read_csv(\"profiles.csv\")\n",
    "print(df.head(6))"
   ]
  },
  {
   "cell_type": "code",
   "execution_count": 184,
   "metadata": {},
   "outputs": [
    {
     "name": "stdout",
     "output_type": "stream",
     "text": [
      "<class 'pandas.core.frame.DataFrame'>\n",
      "RangeIndex: 59946 entries, 0 to 59945\n",
      "Data columns (total 31 columns):\n",
      " #   Column       Non-Null Count  Dtype  \n",
      "---  ------       --------------  -----  \n",
      " 0   age          59946 non-null  int64  \n",
      " 1   body_type    54650 non-null  object \n",
      " 2   diet         35551 non-null  object \n",
      " 3   drinks       56961 non-null  object \n",
      " 4   drugs        45866 non-null  object \n",
      " 5   education    53318 non-null  object \n",
      " 6   essay0       54458 non-null  object \n",
      " 7   essay1       52374 non-null  object \n",
      " 8   essay2       50308 non-null  object \n",
      " 9   essay3       48470 non-null  object \n",
      " 10  essay4       49409 non-null  object \n",
      " 11  essay5       49096 non-null  object \n",
      " 12  essay6       46175 non-null  object \n",
      " 13  essay7       47495 non-null  object \n",
      " 14  essay8       40721 non-null  object \n",
      " 15  essay9       47343 non-null  object \n",
      " 16  ethnicity    54266 non-null  object \n",
      " 17  height       59943 non-null  float64\n",
      " 18  income       59946 non-null  int64  \n",
      " 19  job          51748 non-null  object \n",
      " 20  last_online  59946 non-null  object \n",
      " 21  location     59946 non-null  object \n",
      " 22  offspring    24385 non-null  object \n",
      " 23  orientation  59946 non-null  object \n",
      " 24  pets         40025 non-null  object \n",
      " 25  religion     39720 non-null  object \n",
      " 26  sex          59946 non-null  object \n",
      " 27  sign         48890 non-null  object \n",
      " 28  smokes       54434 non-null  object \n",
      " 29  speaks       59896 non-null  object \n",
      " 30  status       59946 non-null  object \n",
      "dtypes: float64(1), int64(2), object(28)\n",
      "memory usage: 14.2+ MB\n",
      "None\n"
     ]
    }
   ],
   "source": [
    "print(df.info())"
   ]
  },
  {
   "cell_type": "markdown",
   "metadata": {},
   "source": [
    "A little legend to the essays:\n",
    "\n",
    "essay0 - My self summary\n",
    "\n",
    "essay1 - What I’m doing with my life\n",
    "\n",
    "essay2 - I’m really good at\n",
    "\n",
    "essay3 - The first thing people usually notice about me\n",
    "\n",
    "essay4 - Favorite books, movies, show, music, and food\n",
    "\n",
    "essay5 - The six things I could never do without\n",
    "\n",
    "essay6 - I spend a lot of time thinking about\n",
    "\n",
    "essay7 - On a typical Friday night I am\n",
    "\n",
    "essay8 - The most private thing I am willing to admit\n",
    "\n",
    "essay9 - You should message me if…"
   ]
  },
  {
   "cell_type": "code",
   "execution_count": 185,
   "metadata": {},
   "outputs": [
    {
     "name": "stdout",
     "output_type": "stream",
     "text": [
      "NaN                                                    35561\n",
      "doesn&rsquo;t have kids                                 7560\n",
      "doesn&rsquo;t have kids, but might want them            3875\n",
      "doesn&rsquo;t have kids, but wants them                 3565\n",
      "doesn&rsquo;t want kids                                 2927\n",
      "has kids                                                1883\n",
      "has a kid                                               1881\n",
      "doesn&rsquo;t have kids, and doesn&rsquo;t want any     1132\n",
      "has kids, but doesn&rsquo;t want more                    442\n",
      "has a kid, but doesn&rsquo;t want more                   275\n",
      "has a kid, and might want more                           231\n",
      "wants kids                                               225\n",
      "might want kids                                          182\n",
      "has kids, and might want more                            115\n",
      "has a kid, and wants more                                 71\n",
      "has kids, and wants more                                  21\n",
      "Name: offspring, dtype: int64\n"
     ]
    }
   ],
   "source": [
    "print(df.offspring.value_counts(dropna=False))"
   ]
  },
  {
   "cell_type": "code",
   "execution_count": 186,
   "metadata": {},
   "outputs": [
    {
     "name": "stdout",
     "output_type": "stream",
     "text": [
      "m    35829\n",
      "f    24117\n",
      "Name: sex, dtype: int64\n"
     ]
    }
   ],
   "source": [
    "print(df.sex.value_counts(dropna=False))"
   ]
  },
  {
   "cell_type": "code",
   "execution_count": 187,
   "metadata": {},
   "outputs": [
    {
     "name": "stdout",
     "output_type": "stream",
     "text": [
      "NaN                                           20226\n",
      "agnosticism                                    2724\n",
      "other                                          2691\n",
      "agnosticism but not too serious about it       2636\n",
      "agnosticism and laughing about it              2496\n",
      "catholicism but not too serious about it       2318\n",
      "atheism                                        2175\n",
      "other and laughing about it                    2119\n",
      "atheism and laughing about it                  2074\n",
      "christianity                                   1957\n",
      "christianity but not too serious about it      1952\n",
      "other but not too serious about it             1554\n",
      "judaism but not too serious about it           1517\n",
      "atheism but not too serious about it           1318\n",
      "catholicism                                    1064\n",
      "christianity and somewhat serious about it      927\n",
      "atheism and somewhat serious about it           848\n",
      "other and somewhat serious about it             846\n",
      "catholicism and laughing about it               726\n",
      "judaism and laughing about it                   681\n",
      "buddhism but not too serious about it           650\n",
      "agnosticism and somewhat serious about it       642\n",
      "judaism                                         612\n",
      "christianity and very serious about it          578\n",
      "atheism and very serious about it               570\n",
      "catholicism and somewhat serious about it       548\n",
      "other and very serious about it                 533\n",
      "buddhism and laughing about it                  466\n",
      "buddhism                                        403\n",
      "christianity and laughing about it              373\n",
      "buddhism and somewhat serious about it          359\n",
      "agnosticism and very serious about it           314\n",
      "judaism and somewhat serious about it           266\n",
      "hinduism but not too serious about it           227\n",
      "hinduism                                        107\n",
      "catholicism and very serious about it           102\n",
      "buddhism and very serious about it               70\n",
      "hinduism and somewhat serious about it           58\n",
      "islam                                            48\n",
      "hinduism and laughing about it                   44\n",
      "islam but not too serious about it               40\n",
      "islam and somewhat serious about it              22\n",
      "judaism and very serious about it                22\n",
      "islam and laughing about it                      16\n",
      "hinduism and very serious about it               14\n",
      "islam and very serious about it                  13\n",
      "Name: religion, dtype: int64\n"
     ]
    }
   ],
   "source": [
    "print(df.religion.value_counts(dropna=False))"
   ]
  },
  {
   "cell_type": "code",
   "execution_count": 188,
   "metadata": {},
   "outputs": [
    {
     "name": "stdout",
     "output_type": "stream",
     "text": [
      "graduated from college/university    23959\n",
      "graduated from masters program        8961\n",
      "working on college/university         5712\n",
      "working on masters program            1683\n",
      "graduated from two-year college       1531\n",
      "graduated from high school            1428\n",
      "graduated from ph.d program           1272\n",
      "graduated from law school             1122\n",
      "working on two-year college           1074\n",
      "dropped out of college/university      995\n",
      "working on ph.d program                983\n",
      "college/university                     801\n",
      "graduated from space camp              657\n",
      "dropped out of space camp              523\n",
      "graduated from med school              446\n",
      "working on space camp                  445\n",
      "working on law school                  269\n",
      "two-year college                       222\n",
      "working on med school                  212\n",
      "dropped out of two-year college        191\n",
      "dropped out of masters program         140\n",
      "masters program                        136\n",
      "dropped out of ph.d program            127\n",
      "dropped out of high school             102\n",
      "high school                             96\n",
      "working on high school                  87\n",
      "space camp                              58\n",
      "ph.d program                            26\n",
      "law school                              19\n",
      "dropped out of law school               18\n",
      "dropped out of med school               12\n",
      "med school                              11\n",
      "Name: education, dtype: int64\n"
     ]
    }
   ],
   "source": [
    "print(df.education.value_counts())"
   ]
  },
  {
   "cell_type": "code",
   "execution_count": 189,
   "metadata": {},
   "outputs": [
    {
     "data": {
      "image/png": "[encoded data removed]",
      "text/plain": [
       "<Figure size 432x288 with 1 Axes>"
      ]
     },
     "metadata": {
      "needs_background": "light"
     },
     "output_type": "display_data"
    }
   ],
   "source": [
    "# Codecademy-provided sample visualization of the distribution of ages\n",
    "plt.hist(df.age, bins=20)\n",
    "plt.xlabel(\"Age\")\n",
    "plt.ylabel(\"Frequency\")\n",
    "plt.xlim(16, 80)\n",
    "plt.show()"
   ]
  },
  {
   "cell_type": "code",
   "execution_count": 191,
   "metadata": {},
   "outputs": [
    {
     "data": {
      "image/png": "[encoded data removed]",
      "text/plain": [
       "<Figure size 432x288 with 1 Axes>"
      ]
     },
     "metadata": {
      "needs_background": "light"
     },
     "output_type": "display_data"
    }
   ],
   "source": [
    "# Let's visualize the distribution of heights\n",
    "plt.hist(df.height, bins=50)\n",
    "plt.xlabel(\"Height\")\n",
    "plt.ylabel(\"Frequency\")\n",
    "plt.xlim(50, 100)\n",
    "plt.show()"
   ]
  },
  {
   "cell_type": "markdown",
   "metadata": {},
   "source": [
    "What I am interested in predicting:\n",
    "- Offspring\n",
    "\n",
    "Features I would like to look at:\n",
    "- Sex\n",
    "- Religion\n",
    "- Education\n",
    "- all essays if it contains \"kids\", \"kid\", \"child\", \"children\", \"son\", \"daughter\", \"sons\", \"daughters\""
   ]
  },
  {
   "cell_type": "markdown",
   "metadata": {},
   "source": [
    "We can break down the responses given in the \"offspring\" column into the following two categories:\n",
    "\n",
    "(1) Does or does not have kids\n",
    "    - Has kids\n",
    "    - Has a kid\n",
    "    - Does not have kids\n",
    "    - No response\n",
    "   \n",
    "(2) Attitude towards having (more) kids:\n",
    "    - Wants / wants more - max\n",
    "    - Might want / might want more\n",
    "    - Not given\n",
    "    - Does not want any / does not want more - minimum"
   ]
  },
  {
   "cell_type": "code",
   "execution_count": 192,
   "metadata": {},
   "outputs": [
    {
     "name": "stdout",
     "output_type": "stream",
     "text": [
      "0    doesn&rsquo;t have kids, but might want them\n",
      "1    doesn&rsquo;t have kids, but might want them\n",
      "3                         doesn&rsquo;t want kids\n",
      "5    doesn&rsquo;t have kids, but might want them\n",
      "7         doesn&rsquo;t have kids, but wants them\n",
      "Name: offspring, dtype: object\n"
     ]
    }
   ],
   "source": [
    "# Drop all the NaN values\n",
    "df = df.dropna(subset=['offspring', 'education'])\n",
    "print(df.offspring.head())"
   ]
  },
  {
   "cell_type": "code",
   "execution_count": 193,
   "metadata": {},
   "outputs": [],
   "source": [
    "# Let's create a column called \"has_offspring\" which records 0 if the person does not have any kids, \n",
    "# and 1 if the person has a kid or has kids\n",
    "\n",
    "# If the response contains this string: \"doesn&rsquo;t have kids\" - record a 0\n",
    "# If the response contains these strings: \"has kids\" or \"has a kid\" - record a 1\n",
    "# If the response contains neither - record NaN\n",
    "\n",
    "def find_kids(response):\n",
    "    if response.find(\"doesn&rsquo;t have kids\") >= 0:    \n",
    "        return 0\n",
    "    elif response.find(\"has kids\") >= 0 or response.find(\"has a kid\") >= 0:\n",
    "        return 1\n",
    "    else:\n",
    "        return float(\"NaN\")\n",
    "\n",
    "df['has_offspring'] = df['offspring'].apply(find_kids)\n",
    "\n",
    "# There are three possible responses in which the responder does not have to specify whether they have or don't have\n",
    "# kids: \"doesn&rsquo;t want kids\", \"wants kids\",  \"might want kids\". These have now been recorded as a NaN.\n",
    "# I don't feel comfortable assuming either way for these responses, so let us drop these from the dataset.\n",
    "\n",
    "df = df.dropna(subset=[\"has_offspring\"])"
   ]
  },
  {
   "cell_type": "code",
   "execution_count": 222,
   "metadata": {},
   "outputs": [
    {
     "name": "stdout",
     "output_type": "stream",
     "text": [
      "0.0    15033\n",
      "1.0     4343\n",
      "Name: has_offspring, dtype: int64\n",
      "0.2241432700247729\n"
     ]
    }
   ],
   "source": [
    "print(df.has_offspring.value_counts(dropna=False))\n",
    "\n",
    "percentage_with_kids = len(df[df.has_offspring == 1]) / len(df.has_offspring)\n",
    "print(percentage_with_kids)"
   ]
  },
  {
   "cell_type": "code",
   "execution_count": 195,
   "metadata": {},
   "outputs": [
    {
     "name": "stdout",
     "output_type": "stream",
     "text": [
      "3    9841\n",
      "4    4569\n",
      "1    3798\n",
      "2    1095\n",
      "0      73\n",
      "Name: education_numeric, dtype: int64\n"
     ]
    }
   ],
   "source": [
    "# Condensed all the education responses into numerical values, on a scale:\n",
    "# Below high school: 0 | High School grad: 1 | Other tertiary grad: 2 | \n",
    "# University undergrad: 3 | University postgrad: 4\n",
    "\n",
    "education_mapping = {\"dropped out of high school\": 0,\\\n",
    "                     \"working on high school\": 0,\\\n",
    "                     \"graduated from high school\": 1,\\\n",
    "                     \"working on college/university\": 1,\\\n",
    "                     \"working on two-year college\": 1,\\\n",
    "                     \"dropped out of college/university\": 1,\\\n",
    "                     \"dropped out of space camp\": 1,\\\n",
    "                     \"high school\": 1,\n",
    "                     \"working on space camp\": 1,\\\n",
    "                     \"dropped out of two-year college\": 1,\\\n",
    "                     \"graduated from two-year college\": 2,\\\n",
    "                     \"two-year college\": 2,\\\n",
    "                     \"graduated from space camp\": 2,\\\n",
    "                     \"space camp\": 2,\\\n",
    "                     \"graduated from college/university\": 3,\\\n",
    "                     \"working on masters program\": 3,\\\n",
    "                     \"working on ph.d program\": 3,\\\n",
    "                     \"college/university\": 3,\\\n",
    "                     \"working on law school\": 3,\\\n",
    "                     \"working on med school\": 3,\\\n",
    "                     \"dropped out of masters program\": 3,\\\n",
    "                     \"masters program\": 3,\\\n",
    "                     \"ph.d program\": 3,\\\n",
    "                     \"law school\": 3,\\\n",
    "                     \"med school\": 3,\\\n",
    "                     \"dropped out of law school\": 3,\\\n",
    "                     \"dropped out of med school\": 3,\\\n",
    "                     \"graduated from masters program\": 4,\\\n",
    "                     \"graduated from ph.d program\": 4,\\\n",
    "                     \"graduated from law school\": 4,\\\n",
    "                     \"graduated from med school\": 4,\\\n",
    "                     \"dropped out of ph.d program\": 4}\n",
    "\n",
    "df[\"education_numeric\"] = df.education.map(education_mapping)\n",
    "\n",
    "# Replace all NaN values in the \"education_numeric\" column with 0 as well\n",
    "df[\"education_numeric\"] = df[\"education_numeric\"].fillna(value=0)\n",
    "\n",
    "print(df.education_numeric.value_counts(dropna=False))"
   ]
  },
  {
   "cell_type": "code",
   "execution_count": 196,
   "metadata": {},
   "outputs": [
    {
     "name": "stdout",
     "output_type": "stream",
     "text": [
      "<class 'str'>\n"
     ]
    }
   ],
   "source": [
    "print(type(df.religion[8]))\n",
    "\n",
    "# Replace all NaN values in the \"religion\" column with the string \"no answer\"\n",
    "df[\"religion\"] = df[\"religion\"].fillna(value=\"no answer\")\n",
    "\n",
    "#print(df.religion.value_counts(dropna=False))"
   ]
  },
  {
   "cell_type": "markdown",
   "metadata": {},
   "source": [
    "Let's classify the following responses as \"not religious\" and assign the numerical value of 0:\n",
    "    - any response containing the word \"agnostism\" regardless of degree\n",
    "    - any response containing the word \"atheism\" regardless of degree\n",
    "    - any religion with the note, \"and laughing about it\n",
    "\n",
    "Let's classify the following responses as \"a bit religious\" and assign the numerical value of 1:\n",
    "    - any religion (except agnostism and atheism) with the note, \"but not too serious about it\"\n",
    "\n",
    "Let's classify the following responses as \"religious\" and assign the numerical value of 2: \n",
    "    - any religion (except agnostism and atheism) which has no note attached: christianity, other, catholicism, judaism, buddhism, hinduism, islam\n",
    "    - any religion (except agnostism and atheism) with the note, \"and somewhat serious about it\"\n",
    "\n",
    "Let's classify the following responses as \"very religious\" and assign the numerical value of 3: \n",
    "    - any religion (except agnostism and atheism) with the note, \"and very serious about it\""
   ]
  },
  {
   "cell_type": "code",
   "execution_count": 197,
   "metadata": {},
   "outputs": [
    {
     "name": "stdout",
     "output_type": "stream",
     "text": [
      "0.000000    6856\n",
      "0.857402    5042\n",
      "2.000000    3692\n",
      "1.000000    3226\n",
      "3.000000     560\n",
      "Name: religion_numeric, dtype: int64\n"
     ]
    }
   ],
   "source": [
    "# Condense all of the religion responses into numerical values, on a scale:\n",
    "# Not religious: 0 | A bit religious: 1 | Religious (): 2 | Very religious: 3 \n",
    "\n",
    "def map_religiosity(response):\n",
    "    if response.find(\"agnosticism\") >= 0 or response.find(\"atheism\") >= 0 or response.find(\"and laughing about it\") >= 0:\n",
    "        return 0\n",
    "    elif response.find(\"but not too serious about it\") >= 0:\n",
    "        return 1\n",
    "    elif response.find(\"and very serious about it\") >= 0:\n",
    "        return 3\n",
    "    elif response.find(\"christianity\") >= 0 or response.find(\"catholicism\") >= 0 or response.find(\"judaism\") >= 0 or\\\n",
    "    response.find(\"buddhism\") >= 0 or response.find(\"hinduism\") >= 0 or response.find(\"islam\") >= 0 or\\\n",
    "    response.find(\"other\") >= 0 or response.find(\"and somewhat serious about it\") >= 0:\n",
    "        return 2\n",
    "    else:\n",
    "        return float(\"NaN\")\n",
    "\n",
    "df[\"religion_numeric\"] = df.religion.apply(map_religiosity)\n",
    "\n",
    "# Assign \"no answer\" (now NaN) the average value of all the other answers\n",
    "df[\"religion_numeric\"] = df[\"religion_numeric\"].fillna(df[\"religion_numeric\"].mean())\n",
    "\n",
    "print(df.religion_numeric.value_counts(dropna=False))\n"
   ]
  },
  {
   "cell_type": "code",
   "execution_count": 198,
   "metadata": {},
   "outputs": [
    {
     "name": "stdout",
     "output_type": "stream",
     "text": [
      "0     1\n",
      "1     1\n",
      "5     1\n",
      "7     0\n",
      "8     0\n",
      "14    0\n",
      "15    0\n",
      "17    0\n",
      "19    1\n",
      "21    0\n",
      "Name: sex_numeric, dtype: int64\n"
     ]
    }
   ],
   "source": [
    "# Convert sex into numeric values\n",
    "\n",
    "df[\"sex_numeric\"] = df[\"sex\"].map({\"f\": 0, \"m\": 1})\n",
    "print(df.sex_numeric.head(10))"
   ]
  },
  {
   "cell_type": "code",
   "execution_count": 199,
   "metadata": {},
   "outputs": [],
   "source": [
    "# This part of my code was adapted by one suggested by Codecademy\n",
    "\n",
    "essay_cols = [\"essay0\",\"essay1\",\"essay2\",\"essay3\",\"essay4\",\"essay5\",\"essay6\",\"essay7\",\"essay8\",\"essay9\"]\n",
    "\n",
    "# Remove all the NaNs\n",
    "for essay_col in essay_cols:\n",
    "    df[essay_col].fillna(value=\"\", inplace=True)\n",
    "\n",
    "#Combine all essays into one column\n",
    "df[\"all_essays\"] = df[essay_cols].apply(lambda row: ' '.join(row), axis=1)"
   ]
  },
  {
   "cell_type": "code",
   "execution_count": 200,
   "metadata": {},
   "outputs": [],
   "source": [
    "# Create new column that returns 1 if all_essays contains any of the keywords relating to children,\n",
    "# and return 0 if it does not\n",
    "\n",
    "def find_keywords(response):\n",
    "    keywords = [\" kid \", \" kids \", \" child \", \" children \", \" daughter \", \" daughters \", \" son \", \" sons \"]\n",
    "    has_keyword = 0\n",
    "    for keyword in keywords:\n",
    "        if response.find(keyword) >= 0:\n",
    "            has_keyword = 1\n",
    "    return has_keyword\n",
    "\n",
    "# Note to self - I could improve the keyword finding function by using regex - we will leave this for a later version."
   ]
  },
  {
   "cell_type": "code",
   "execution_count": 201,
   "metadata": {},
   "outputs": [
    {
     "name": "stdout",
     "output_type": "stream",
     "text": [
      "0    15853\n",
      "1     3523\n",
      "Name: has_keyword, dtype: int64\n"
     ]
    }
   ],
   "source": [
    "df[\"has_keyword\"] = df.all_essays.apply(find_keywords)\n",
    "print(df.has_keyword.value_counts(dropna=False))"
   ]
  },
  {
   "cell_type": "code",
   "execution_count": 208,
   "metadata": {},
   "outputs": [
    {
     "name": "stdout",
     "output_type": "stream",
     "text": [
      "False    19376\n",
      "Name: has_offspring, dtype: int64\n",
      "19376\n",
      "19376\n"
     ]
    }
   ],
   "source": [
    "# Let us now normalize our data - this code was provided by Codecademy\n",
    "\n",
    "from sklearn.preprocessing import MinMaxScaler\n",
    "\n",
    "feature_data = df[['education_numeric', 'religion_numeric', 'sex_numeric', 'has_keyword']]\n",
    "\n",
    "x = feature_data.values\n",
    "min_max_scaler = MinMaxScaler()\n",
    "x_scaled = min_max_scaler.fit_transform(x)\n",
    "\n",
    "feature_data = pd.DataFrame(x_scaled, columns=feature_data.columns)\n",
    "\n",
    "#print(feature_data.head())\n",
    "print(df.has_offspring.isna().value_counts())\n",
    "print(len(df))\n",
    "print(len(feature_data))"
   ]
  },
  {
   "cell_type": "markdown",
   "metadata": {},
   "source": [
    "Now we need to decide what machine learning technique to use. We want to predict labels/outputs that are discrete, and in fact are binary - kids vs no kids. So we will need to utilize a classification technique.\n",
    "\n",
    "After reviewing the various classification techniques we have learned during this course, I have decided to use K Nearest Neighbours."
   ]
  },
  {
   "cell_type": "code",
   "execution_count": 209,
   "metadata": {},
   "outputs": [],
   "source": [
    "# We need to split our data into a training set and a test set\n",
    "\n",
    "from sklearn.model_selection import train_test_split\n",
    "\n",
    "training_data, test_data, training_labels, test_labels = train_test_split(feature_data, df.has_offspring,\\\n",
    "                                                                          test_size=0.2, random_state=23)"
   ]
  },
  {
   "cell_type": "code",
   "execution_count": 224,
   "metadata": {},
   "outputs": [
    {
     "name": "stdout",
     "output_type": "stream",
     "text": [
      "0.7515479876160991\n",
      "0.0    3240\n",
      "1.0     636\n",
      "dtype: int64\n",
      "0.0    3049\n",
      "1.0     827\n",
      "Name: has_offspring, dtype: int64\n"
     ]
    }
   ],
   "source": [
    "from sklearn.neighbors import KNeighborsClassifier\n",
    "\n",
    "# Create a K Nearest Neighbours classifier - at first let's set k=5\n",
    "classifier = KNeighborsClassifier(n_neighbors=5)\n",
    "\n",
    "# Train the classifier with the training data\n",
    "classifier.fit(training_data, training_labels)\n",
    "\n",
    "# Find the accuracy of the classifier using the test data\n",
    "accuracy = classifier.score(test_data, test_labels)\n",
    "print(accuracy)\n",
    "\n",
    "# We get 0.7515479876160991, which is on the surface a pretty good accuracy level, but we will want to look at \n",
    "# precision and recall as well.\n",
    "\n",
    "predictions = classifier.predict(test_data)\n",
    "print(pd.Series(predictions).value_counts())\n",
    "print(test_labels.value_counts())"
   ]
  },
  {
   "cell_type": "code",
   "execution_count": 219,
   "metadata": {},
   "outputs": [
    {
     "name": "stdout",
     "output_type": "stream",
     "text": [
      "[[2663  386]\n",
      " [ 577  250]]\n",
      "              precision    recall  f1-score   support\n",
      "\n",
      "         0.0       0.82      0.87      0.85      3049\n",
      "         1.0       0.39      0.30      0.34       827\n",
      "\n",
      "    accuracy                           0.75      3876\n",
      "   macro avg       0.61      0.59      0.59      3876\n",
      "weighted avg       0.73      0.75      0.74      3876\n",
      "\n"
     ]
    }
   ],
   "source": [
    "from sklearn.metrics import classification_report, confusion_matrix\n",
    "\n",
    "print(confusion_matrix(test_labels, predictions))\n",
    "print(classification_report(test_labels, predictions))"
   ]
  },
  {
   "cell_type": "markdown",
   "metadata": {},
   "source": [
    "About the confusion matrix - x axis = predicted, y axis = actual\n",
    "\n",
    "[[TN FP]\n",
    "\n",
    "[ FN TP]]"
   ]
  },
  {
   "cell_type": "markdown",
   "metadata": {},
   "source": [
    "Let's recall the following definitions:\n",
    "\n",
    "Precision = true positives / (true positives + false positives)\n",
    "\n",
    "Recall = true positives / (true positives + false negatives)\n",
    "\n",
    "Looking at the people who have kids (label 1.0):\n",
    "    - Our precision was 0.39. This means that of all the people we predicted as having kids, we were correct 39% of the time. \n",
    "    - Our recall was 0.30. This means that of all the people who actually had kids, we correctly identified 30% of them. \n",
    "    \n",
    "Looking at the people who don't have kids (label 0.0):\n",
    "    - Our precision was 0.82. This means that of all the people we predicted as not having kids, we were correct about that 82% of the time. \n",
    "    - Our recall was 0.87. This means that of all the people who actually didn't have kids, we correctly identified 87% of them. \n",
    "    \n",
    "Let's also recall that the true proportions in our dataset are as follows:\n",
    "    - People with kids: 0.2241\n",
    "    - People without kids: 0.7759\n",
    "\n",
    "I think our model isn't bad, especially for a first try but there certainly is plenty of room for improvement.\n",
    "\n",
    "I think if we had to identify which metric was the most important to us, it would be the recall for label 1.0 - we want to be able to correctly identify the people who have kids as people who have kids.\n",
    "\n",
    "Let's see if we can optimize k and derive better predictions."
   ]
  },
  {
   "cell_type": "code",
   "execution_count": 226,
   "metadata": {},
   "outputs": [
    {
     "name": "stdout",
     "output_type": "stream",
     "text": [
      "\n",
      "Classification report for k=2:\n",
      "               precision    recall  f1-score   support\n",
      "\n",
      "         0.0       0.81      0.95      0.88      3049\n",
      "         1.0       0.51      0.18      0.26       827\n",
      "\n",
      "    accuracy                           0.79      3876\n",
      "   macro avg       0.66      0.57      0.57      3876\n",
      "weighted avg       0.75      0.79      0.75      3876\n",
      "\n",
      "\n",
      "Classification report for k=3:\n",
      "               precision    recall  f1-score   support\n",
      "\n",
      "         0.0       0.82      0.93      0.88      3049\n",
      "         1.0       0.52      0.26      0.35       827\n",
      "\n",
      "    accuracy                           0.79      3876\n",
      "   macro avg       0.67      0.60      0.61      3876\n",
      "weighted avg       0.76      0.79      0.76      3876\n",
      "\n",
      "\n",
      "Classification report for k=4:\n",
      "               precision    recall  f1-score   support\n",
      "\n",
      "         0.0       0.81      0.97      0.88      3049\n",
      "         1.0       0.61      0.17      0.27       827\n",
      "\n",
      "    accuracy                           0.80      3876\n",
      "   macro avg       0.71      0.57      0.58      3876\n",
      "weighted avg       0.77      0.80      0.75      3876\n",
      "\n",
      "\n",
      "Classification report for k=5:\n",
      "               precision    recall  f1-score   support\n",
      "\n",
      "         0.0       0.82      0.87      0.85      3049\n",
      "         1.0       0.39      0.30      0.34       827\n",
      "\n",
      "    accuracy                           0.75      3876\n",
      "   macro avg       0.61      0.59      0.59      3876\n",
      "weighted avg       0.73      0.75      0.74      3876\n",
      "\n",
      "\n",
      "Classification report for k=6:\n",
      "               precision    recall  f1-score   support\n",
      "\n",
      "         0.0       0.81      0.95      0.88      3049\n",
      "         1.0       0.52      0.19      0.27       827\n",
      "\n",
      "    accuracy                           0.79      3876\n",
      "   macro avg       0.67      0.57      0.58      3876\n",
      "weighted avg       0.75      0.79      0.75      3876\n",
      "\n",
      "\n",
      "Classification report for k=7:\n",
      "               precision    recall  f1-score   support\n",
      "\n",
      "         0.0       0.83      0.93      0.87      3049\n",
      "         1.0       0.51      0.28      0.36       827\n",
      "\n",
      "    accuracy                           0.79      3876\n",
      "   macro avg       0.67      0.60      0.62      3876\n",
      "weighted avg       0.76      0.79      0.76      3876\n",
      "\n",
      "\n",
      "Classification report for k=8:\n",
      "               precision    recall  f1-score   support\n",
      "\n",
      "         0.0       0.82      0.95      0.88      3049\n",
      "         1.0       0.56      0.22      0.32       827\n",
      "\n",
      "    accuracy                           0.80      3876\n",
      "   macro avg       0.69      0.59      0.60      3876\n",
      "weighted avg       0.76      0.80      0.76      3876\n",
      "\n"
     ]
    }
   ],
   "source": [
    "for k in range(2, 9):\n",
    "\n",
    "    # Create a K Nearest Neighbours classifier\n",
    "    classifier = KNeighborsClassifier(n_neighbors=k)\n",
    "\n",
    "    # Train the classifier with the training data\n",
    "    classifier.fit(training_data, training_labels)\n",
    "    \n",
    "    # Analyze the metrics of the classifier using the test data\n",
    "    predictions = classifier.predict(test_data)\n",
    "    print(\"\\nClassification report for k=%d:\\n\" % k, classification_report(test_labels, predictions))"
   ]
  },
  {
   "cell_type": "markdown",
   "metadata": {},
   "source": [
    "Accuracy is the highest at k=4 and k=8, at 0.80, but the recall of label 1.0 is quite low at 0.17 and 0.22 respectively. We previously identified the recall as being an important metric to us in this classifier, so we still prefer k=5. k=7 has only a slightly lower recall, but better precision and accuracy and f1 score, so that is a good k value as well. "
   ]
  },
  {
   "cell_type": "code",
   "execution_count": null,
   "metadata": {},
   "outputs": [],
   "source": []
  }
 ],
 "metadata": {
  "kernelspec": {
   "display_name": "Python 3",
   "language": "python",
   "name": "python3"
  },
  "language_info": {
   "codemirror_mode": {
    "name": "ipython",
    "version": 3
   },
   "file_extension": ".py",
   "mimetype": "text/x-python",
   "name": "python",
   "nbconvert_exporter": "python",
   "pygments_lexer": "ipython3",
   "version": "3.7.6"
  }
 },
 "nbformat": 4,
 "nbformat_minor": 4
}
